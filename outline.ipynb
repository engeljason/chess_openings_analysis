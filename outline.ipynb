{
  "nbformat": 4,
  "nbformat_minor": 0,
  "metadata": {
    "interpreter": {
      "hash": "79264824c40396a64d10485446bbc394f17a77ecfe3bed33e1bfdf8fe75a4647"
    },
    "kernelspec": {
      "display_name": "Python 3.6.10 64-bit ('PythonData': conda)",
      "name": "python3"
    },
    "language_info": {
      "name": "python",
      "version": ""
    },
    "orig_nbformat": 4,
    "colab": {
      "name": "outline.ipynb",
      "provenance": []
    }
  },
  "cells": [
    {
      "cell_type": "code",
      "metadata": {
        "id": "yngWqL9NSap0"
      },
      "source": [
        "# imports\n",
        "\n",
        "# set filepath to data source"
      ],
      "execution_count": null,
      "outputs": []
    },
    {
      "cell_type": "code",
      "metadata": {
        "id": "KdoKR4JLSap2"
      },
      "source": [
        "# load data into dataframe"
      ],
      "execution_count": 1,
      "outputs": []
    },
    {
      "cell_type": "code",
      "metadata": {
        "id": "jZ_nzO0zVuJ2"
      },
      "source": [
        "# split opening_name into opening and variation\n",
        "\n",
        "# cleanup opening so similar names correlate properly \n",
        "# (eg. \"Queens Pawn\" and \"Queens Pawn Game\")"
      ],
      "execution_count": 3,
      "outputs": []
    },
    {
      "cell_type": "code",
      "metadata": {
        "id": "BiSL2hLVWYhN"
      },
      "source": [
        "# filter out bad data (resignations, unranked games)"
      ],
      "execution_count": null,
      "outputs": []
    },
    {
      "cell_type": "code",
      "metadata": {
        "id": "XvYFGXIsWIGa"
      },
      "source": [
        "# get general summary data \n",
        "\n",
        "## overall wins for white/black\n",
        "## counts of openings\n",
        "## graphs to visualize these"
      ],
      "execution_count": 4,
      "outputs": []
    },
    {
      "cell_type": "code",
      "metadata": {
        "id": "j9jpTFacY8rV"
      },
      "source": [
        "# grouping by opening\n",
        "# find the win rates for each opening/varient\n",
        "\n",
        "# graph these"
      ],
      "execution_count": 5,
      "outputs": []
    },
    {
      "cell_type": "code",
      "metadata": {
        "id": "PwAp9sW8ZcEK"
      },
      "source": [
        "# find the number of pieces taken by white/black each game"
      ],
      "execution_count": 6,
      "outputs": []
    },
    {
      "cell_type": "code",
      "metadata": {
        "id": "DLLj703OZf6T"
      },
      "source": [
        "# grouping by opening, winner\n",
        "# find out how many pieces the winner had taken \n",
        "#   vs the count of pieces the opp. had taken\n",
        "\n",
        "# graph this seperately for white as winner and black as winner"
      ],
      "execution_count": 7,
      "outputs": []
    },
    {
      "cell_type": "code",
      "metadata": {
        "id": "MfEVyjYTZo3i"
      },
      "source": [
        "# repeat above work, but with the data binned by ranges of player ratings"
      ],
      "execution_count": null,
      "outputs": []
    }
  ]
}
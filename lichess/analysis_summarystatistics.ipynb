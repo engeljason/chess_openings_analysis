{
 "cells": [
  {
   "cell_type": "code",
   "execution_count": 2,
   "metadata": {},
   "outputs": [],
   "source": [
    "import pandas as pd\n",
    "import os\n",
    "\n",
    "\n",
    "filepath = os.path.join(\"lichess\",\"games.csv\")\n"
   ]
  },
  {
   "cell_type": "code",
   "execution_count": 3,
   "metadata": {},
   "outputs": [],
   "source": [
    "games_df = pd.read_csv(filepath)"
   ]
  },
  {
   "cell_type": "code",
   "execution_count": 4,
   "metadata": {},
   "outputs": [
    {
     "output_type": "execute_result",
     "data": {
      "text/plain": [
       "         id  rated    created_at  last_move_at  turns victory_status winner  \\\n",
       "0  TZJHLljE  False  1.504210e+12  1.504210e+12     13      outoftime  white   \n",
       "\n",
       "  increment_code  white_id  white_rating black_id  black_rating  \\\n",
       "0           15+2  bourgris          1500     a-00          1191   \n",
       "\n",
       "                                               moves opening_eco  \\\n",
       "0  d4 d5 c4 c6 cxd5 e6 dxe6 fxe6 Nf3 Bb4+ Nc3 Ba5...         D10   \n",
       "\n",
       "                       opening_name  opening_ply  \n",
       "0  Slav Defense: Exchange Variation            5  "
      ],
      "text/html": "<div>\n<style scoped>\n    .dataframe tbody tr th:only-of-type {\n        vertical-align: middle;\n    }\n\n    .dataframe tbody tr th {\n        vertical-align: top;\n    }\n\n    .dataframe thead th {\n        text-align: right;\n    }\n</style>\n<table border=\"1\" class=\"dataframe\">\n  <thead>\n    <tr style=\"text-align: right;\">\n      <th></th>\n      <th>id</th>\n      <th>rated</th>\n      <th>created_at</th>\n      <th>last_move_at</th>\n      <th>turns</th>\n      <th>victory_status</th>\n      <th>winner</th>\n      <th>increment_code</th>\n      <th>white_id</th>\n      <th>white_rating</th>\n      <th>black_id</th>\n      <th>black_rating</th>\n      <th>moves</th>\n      <th>opening_eco</th>\n      <th>opening_name</th>\n      <th>opening_ply</th>\n    </tr>\n  </thead>\n  <tbody>\n    <tr>\n      <th>0</th>\n      <td>TZJHLljE</td>\n      <td>False</td>\n      <td>1.504210e+12</td>\n      <td>1.504210e+12</td>\n      <td>13</td>\n      <td>outoftime</td>\n      <td>white</td>\n      <td>15+2</td>\n      <td>bourgris</td>\n      <td>1500</td>\n      <td>a-00</td>\n      <td>1191</td>\n      <td>d4 d5 c4 c6 cxd5 e6 dxe6 fxe6 Nf3 Bb4+ Nc3 Ba5...</td>\n      <td>D10</td>\n      <td>Slav Defense: Exchange Variation</td>\n      <td>5</td>\n    </tr>\n  </tbody>\n</table>\n</div>"
     },
     "metadata": {},
     "execution_count": 4
    }
   ],
   "source": [
    "games_df.head(1)"
   ]
  },
  {
   "cell_type": "code",
   "execution_count": 19,
   "metadata": {},
   "outputs": [
    {
     "output_type": "execute_result",
     "data": {
      "text/plain": [
       "60.46599860404826"
      ]
     },
     "metadata": {},
     "execution_count": 19
    }
   ],
   "source": [
    "turns_mean = games_df[\"turns\"].mean()\n",
    "turns_mean"
   ]
  },
  {
   "cell_type": "code",
   "execution_count": 20,
   "metadata": {},
   "outputs": [
    {
     "output_type": "execute_result",
     "data": {
      "text/plain": [
       "turns\n",
       "1      2105.722222\n",
       "2      1382.421622\n",
       "3      1460.885057\n",
       "4      1500.615385\n",
       "5      1593.275000\n",
       "          ...     \n",
       "222    1734.000000\n",
       "226    1817.000000\n",
       "255    1585.000000\n",
       "259    1441.000000\n",
       "349    2194.000000\n",
       "Name: white_rating, Length: 211, dtype: float64"
      ]
     },
     "metadata": {},
     "execution_count": 20
    }
   ],
   "source": [
    "turns_mean_whiterating = games_df.groupby(\"turns\").mean()[\"white_rating\"]\n",
    "turns_mean_whiterating"
   ]
  },
  {
   "cell_type": "code",
   "execution_count": 21,
   "metadata": {},
   "outputs": [
    {
     "output_type": "execute_result",
     "data": {
      "text/plain": [
       "turns\n",
       "1      1613.888889\n",
       "2      1416.800000\n",
       "3      1399.333333\n",
       "4      1529.000000\n",
       "5      1439.000000\n",
       "          ...     \n",
       "222    1733.500000\n",
       "226    1907.000000\n",
       "255    1448.000000\n",
       "259    1461.000000\n",
       "349    2240.000000\n",
       "Name: black_rating, Length: 211, dtype: float64"
      ]
     },
     "metadata": {},
     "execution_count": 21
    }
   ],
   "source": [
    "turns_mean_blackrating = games_df.groupby(\"turns\").mean()[\"black_rating\"]\n",
    "turns_mean_blackrating"
   ]
  },
  {
   "cell_type": "code",
   "execution_count": 22,
   "metadata": {},
   "outputs": [
    {
     "output_type": "execute_result",
     "data": {
      "text/plain": [
       "       White Rating Mean  Black Rating Mean\n",
       "turns                                      \n",
       "1            2105.722222        1613.888889\n",
       "2            1382.421622        1416.800000\n",
       "3            1460.885057        1399.333333\n",
       "4            1500.615385        1529.000000\n",
       "5            1593.275000        1439.000000\n",
       "...                  ...                ...\n",
       "222          1734.000000        1733.500000\n",
       "226          1817.000000        1907.000000\n",
       "255          1585.000000        1448.000000\n",
       "259          1441.000000        1461.000000\n",
       "349          2194.000000        2240.000000\n",
       "\n",
       "[211 rows x 2 columns]"
      ],
      "text/html": "<div>\n<style scoped>\n    .dataframe tbody tr th:only-of-type {\n        vertical-align: middle;\n    }\n\n    .dataframe tbody tr th {\n        vertical-align: top;\n    }\n\n    .dataframe thead th {\n        text-align: right;\n    }\n</style>\n<table border=\"1\" class=\"dataframe\">\n  <thead>\n    <tr style=\"text-align: right;\">\n      <th></th>\n      <th>White Rating Mean</th>\n      <th>Black Rating Mean</th>\n    </tr>\n    <tr>\n      <th>turns</th>\n      <th></th>\n      <th></th>\n    </tr>\n  </thead>\n  <tbody>\n    <tr>\n      <th>1</th>\n      <td>2105.722222</td>\n      <td>1613.888889</td>\n    </tr>\n    <tr>\n      <th>2</th>\n      <td>1382.421622</td>\n      <td>1416.800000</td>\n    </tr>\n    <tr>\n      <th>3</th>\n      <td>1460.885057</td>\n      <td>1399.333333</td>\n    </tr>\n    <tr>\n      <th>4</th>\n      <td>1500.615385</td>\n      <td>1529.000000</td>\n    </tr>\n    <tr>\n      <th>5</th>\n      <td>1593.275000</td>\n      <td>1439.000000</td>\n    </tr>\n    <tr>\n      <th>...</th>\n      <td>...</td>\n      <td>...</td>\n    </tr>\n    <tr>\n      <th>222</th>\n      <td>1734.000000</td>\n      <td>1733.500000</td>\n    </tr>\n    <tr>\n      <th>226</th>\n      <td>1817.000000</td>\n      <td>1907.000000</td>\n    </tr>\n    <tr>\n      <th>255</th>\n      <td>1585.000000</td>\n      <td>1448.000000</td>\n    </tr>\n    <tr>\n      <th>259</th>\n      <td>1441.000000</td>\n      <td>1461.000000</td>\n    </tr>\n    <tr>\n      <th>349</th>\n      <td>2194.000000</td>\n      <td>2240.000000</td>\n    </tr>\n  </tbody>\n</table>\n<p>211 rows × 2 columns</p>\n</div>"
     },
     "metadata": {},
     "execution_count": 22
    }
   ],
   "source": [
    "turns_summary = pd. DataFrame({\n",
    "    \"White Rating Mean\": turns_mean_whiterating,\n",
    "    \"Black Rating Mean\": turns_mean_blackrating\n",
    "})\n",
    "turns_summary"
   ]
  },
  {
   "cell_type": "code",
   "execution_count": 24,
   "metadata": {},
   "outputs": [
    {
     "output_type": "execute_result",
     "data": {
      "text/plain": [
       "1596.6318675840064"
      ]
     },
     "metadata": {},
     "execution_count": 24
    }
   ],
   "source": [
    "whiterating_mean = games_df[\"white_rating\"].mean()\n",
    "whiterating_mean"
   ]
  },
  {
   "cell_type": "code",
   "execution_count": 9,
   "metadata": {},
   "outputs": [
    {
     "output_type": "execute_result",
     "data": {
      "text/plain": [
       "1588.8319872370128"
      ]
     },
     "metadata": {},
     "execution_count": 9
    }
   ],
   "source": [
    "blackrating_mean = games_df[\"black_rating\"].mean()\n",
    "blackrating_mean"
   ]
  },
  {
   "cell_type": "code",
   "execution_count": 25,
   "metadata": {},
   "outputs": [
    {
     "output_type": "execute_result",
     "data": {
      "text/plain": [
       "60.46599860404826"
      ]
     },
     "metadata": {},
     "execution_count": 25
    }
   ],
   "source": [
    "turns_mean = games_df[\"turns\"].mean()\n",
    "turns_mean"
   ]
  },
  {
   "cell_type": "code",
   "execution_count": 28,
   "metadata": {},
   "outputs": [
    {
     "output_type": "execute_result",
     "data": {
      "text/plain": [
       "white_rating\n",
       "784      31.500000\n",
       "788      27.000000\n",
       "793      62.000000\n",
       "795     144.000000\n",
       "798      23.000000\n",
       "           ...    \n",
       "2617      1.000000\n",
       "2619     64.000000\n",
       "2621     44.041667\n",
       "2622    149.000000\n",
       "2700     20.000000\n",
       "Name: turns, Length: 1516, dtype: float64"
      ]
     },
     "metadata": {},
     "execution_count": 28
    }
   ],
   "source": [
    "whiterating_mean_turns = games_df.groupby(\"white_rating\").mean()[\"turns\"]\n",
    "whiterating_mean_turns"
   ]
  },
  {
   "cell_type": "code",
   "execution_count": 13,
   "metadata": {},
   "outputs": [
    {
     "output_type": "execute_result",
     "data": {
      "text/plain": [
       "black_rating\n",
       "789     120.000000\n",
       "791      74.000000\n",
       "795      77.000000\n",
       "796      60.000000\n",
       "800      84.000000\n",
       "           ...    \n",
       "2571     92.000000\n",
       "2577     44.000000\n",
       "2588    122.000000\n",
       "2621     65.733333\n",
       "2723      1.000000\n",
       "Name: turns, Length: 1521, dtype: float64"
      ]
     },
     "metadata": {},
     "execution_count": 13
    }
   ],
   "source": [
    "blackrating_mean_turns = games_df.groupby(\"black_rating\").mean()[\"turns\"]\n",
    "blackrating_mean_turns"
   ]
  },
  {
   "cell_type": "code",
   "execution_count": 32,
   "metadata": {},
   "outputs": [
    {
     "output_type": "execute_result",
     "data": {
      "text/plain": [
       "      Mean Turns of White Pieces  Mean Turns of Black Pieces\n",
       "784                    31.500000                         NaN\n",
       "788                    27.000000                         NaN\n",
       "789                          NaN                  120.000000\n",
       "791                          NaN                   74.000000\n",
       "793                    62.000000                         NaN\n",
       "...                          ...                         ...\n",
       "2619                   64.000000                         NaN\n",
       "2621                   44.041667                   65.733333\n",
       "2622                  149.000000                         NaN\n",
       "2700                   20.000000                         NaN\n",
       "2723                         NaN                    1.000000\n",
       "\n",
       "[1622 rows x 2 columns]"
      ],
      "text/html": "<div>\n<style scoped>\n    .dataframe tbody tr th:only-of-type {\n        vertical-align: middle;\n    }\n\n    .dataframe tbody tr th {\n        vertical-align: top;\n    }\n\n    .dataframe thead th {\n        text-align: right;\n    }\n</style>\n<table border=\"1\" class=\"dataframe\">\n  <thead>\n    <tr style=\"text-align: right;\">\n      <th></th>\n      <th>Mean Turns of White Pieces</th>\n      <th>Mean Turns of Black Pieces</th>\n    </tr>\n  </thead>\n  <tbody>\n    <tr>\n      <th>784</th>\n      <td>31.500000</td>\n      <td>NaN</td>\n    </tr>\n    <tr>\n      <th>788</th>\n      <td>27.000000</td>\n      <td>NaN</td>\n    </tr>\n    <tr>\n      <th>789</th>\n      <td>NaN</td>\n      <td>120.000000</td>\n    </tr>\n    <tr>\n      <th>791</th>\n      <td>NaN</td>\n      <td>74.000000</td>\n    </tr>\n    <tr>\n      <th>793</th>\n      <td>62.000000</td>\n      <td>NaN</td>\n    </tr>\n    <tr>\n      <th>...</th>\n      <td>...</td>\n      <td>...</td>\n    </tr>\n    <tr>\n      <th>2619</th>\n      <td>64.000000</td>\n      <td>NaN</td>\n    </tr>\n    <tr>\n      <th>2621</th>\n      <td>44.041667</td>\n      <td>65.733333</td>\n    </tr>\n    <tr>\n      <th>2622</th>\n      <td>149.000000</td>\n      <td>NaN</td>\n    </tr>\n    <tr>\n      <th>2700</th>\n      <td>20.000000</td>\n      <td>NaN</td>\n    </tr>\n    <tr>\n      <th>2723</th>\n      <td>NaN</td>\n      <td>1.000000</td>\n    </tr>\n  </tbody>\n</table>\n<p>1622 rows × 2 columns</p>\n</div>"
     },
     "metadata": {},
     "execution_count": 32
    }
   ],
   "source": [
    "ratings_frame = pd.DataFrame({\n",
    "    \"Mean Turns of White Pieces\": whiterating_mean_turns,\n",
    "    \"Mean Turns of Black Pieces\": blackrating_mean_turns\n",
    "})\n",
    "ratings_frame"
   ]
  },
  {
   "cell_type": "code",
   "execution_count": null,
   "metadata": {},
   "outputs": [],
   "source": []
  }
 ],
 "metadata": {
  "interpreter": {
   "hash": "7aa886b10f50acdb647322112c4d9871b8123e99b7ecbc30903f15ebe704b274"
  },
  "kernelspec": {
   "name": "python3",
   "display_name": "Python 3.6.10 64-bit ('PythonData2': conda)"
  },
  "language_info": {
   "codemirror_mode": {
    "name": "ipython",
    "version": 3
   },
   "file_extension": ".py",
   "mimetype": "text/x-python",
   "name": "python",
   "nbconvert_exporter": "python",
   "pygments_lexer": "ipython3",
   "version": "3.6.10"
  }
 },
 "nbformat": 4,
 "nbformat_minor": 2
}
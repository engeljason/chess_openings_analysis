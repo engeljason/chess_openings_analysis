{
  "cells": [
    {
      "cell_type": "code",
      "execution_count": null,
      "metadata": {
        "id": "hrFOQL5C3xTK"
      },
      "outputs": [],
      "source": [
        "# imports\r\n",
        "import pandas as pd\r\n",
        "import matplotlib.pyplot as plt\r\n",
        "\r\n",
        "# set filepath to data source\r\n",
        "filepath = \"games.csv\"\r\n"
      ]
    },
    {
      "cell_type": "code",
      "execution_count": null,
      "metadata": {
        "colab": {
          "base_uri": "https://localhost:8080/",
          "height": 253
        },
        "id": "nn_JjVjo3xTN",
        "outputId": "9b205ce5-b116-45a1-d850-ea72bfd3707d"
      },
      "outputs": [],
      "source": [
        "# load data into dataframe\n",
        "games_df = pd.read_csv(filepath)\n",
        "games_df.head(1)"
      ]
    },
    {
      "cell_type": "code",
      "execution_count": null,
      "metadata": {
        "colab": {
          "base_uri": "https://localhost:8080/"
        },
        "id": "ylYhB3m43xTN",
        "outputId": "07d29c1e-2c0a-411f-a209-d4e148404a1b"
      },
      "outputs": [],
      "source": [
        "# make bins for player rating ranges\r\n",
        "games_df[\"white_range\"] = pd.cut(games_df[\"white_rating\"], range(0, 3001, 200))\r\n",
        "games_df[\"black_range\"] = pd.cut(games_df[\"black_rating\"], range(0, 3001, 200))"
      ]
    },
    {
      "cell_type": "code",
      "execution_count": null,
      "metadata": {},
      "outputs": [],
      "source": [
        "# High ELO_diff implies white should win;  low (negative) values imply black should win\r\n",
        "games_df[\"elo_diff\"] = games_df[\"white_rating\"]-games_df[\"black_rating\"]"
      ]
    },
    {
      "cell_type": "markdown",
      "metadata": {},
      "source": [
        "## A – Flank openings\r\n",
        "\r\n",
        "* White first moves other than 1.e4, 1.d4 (A00–A39)\r\n",
        "* 1.d4 without 1...d5, 1...Nf6 or 1...f5: Atypical replies to 1.d4 (A40–A44)\r\n",
        "* 1.d4 Nf6 without 2.c4: Atypical replies to 1...Nf6 (A45–A49)\r\n",
        "* 1.d4 Nf6 2.c4 without 2...e6 or 2...g6: Atypical [[Indian defences|Indian systems]] (A50–A79)\r\n",
        "* 1.d4 f5: [[Dutch Defence]] (A80–A99)\r\n",
        "\r\n",
        "## B – Semi-Open Games other than the French Defense\r\n",
        "\r\n",
        "* 1.e4 without 1...c5, 1...e6 or 1...e5 (B00–B19)\r\n",
        "* 1.e4 c5: [[Sicilian Defence]] (B20–B99)\r\n",
        "\r\n",
        "## C – Open Games and the French Defense\r\n",
        "\r\n",
        "* 1.e4 e6: [[French Defence]] (C00–C19)\r\n",
        "* 1.e4 e5: [[Open Game]] (C20–C99)\r\n",
        "\r\n",
        "## D – Closed Games and Semi-Closed Games\r\n",
        "\r\n",
        "* 1.d4 d5: [[Closed Game]] (D00–D69)\r\n",
        "* 1.d4 Nf6 2.c4 g6 with 3...d5: [[Grünfeld Defence]] (D70–D99)\r\n",
        "\r\n",
        "## E – Indian Defenses\r\n",
        "\r\n",
        "* 1.d4 Nf6 2.c4 e6: Indian systems with ...e6 (E00–E59)\r\n",
        "* 1.d4 Nf6 2.c4 g6 without 3...d5: Indian systems with ...g6 (except Grünfeld) (E60–E99)"
      ]
    },
    {
      "cell_type": "code",
      "execution_count": null,
      "metadata": {
        "id": "O_A2YyA5DYhl"
      },
      "outputs": [],
      "source": [
        "# get general summary data \r\n",
        "\r\n",
        "## overall wins for white/black\r\n",
        "total_wins = games_df[\"winner\"].value_counts()[\"white\"]\r\n",
        "total_losses = games_df[\"winner\"].value_counts()[\"black\"]\r\n",
        "total_draws = games_df[\"winner\"].value_counts()[\"draw\"]\r\n",
        "## counts of openings\r\n",
        "openings = games_df[\"opening_eco\"].value_counts()\r\n",
        "# get Letter category for opening ECO\r\n",
        "games_df[\"opening_cat\"] = games_df[\"opening_eco\"].map(lambda x: x[0])\r\n",
        "\r\n",
        "## graphs to visualize these\r\n",
        "fig, axes = plt.subplots(2, 3, figsize = (10,10))\r\n",
        "ax1 = axes[0][0]\r\n",
        "ax1.pie(x = games_df[\"winner\"].value_counts(), labels = games_df[\"winner\"].value_counts().index.map(str.capitalize), autopct = \"%.1f%%\")\r\n",
        "ax1.set_title(\"Overall\")\r\n",
        "\r\n",
        "for index, value in enumerate(games_df.groupby(\"opening_cat\")[\"winner\"].value_counts().index.get_level_values(0).unique()):\r\n",
        "    ax2.bar(height = games_df.groupby(\"opening_cat\")[\"winner\"].value_counts(), x = games_df.groupby(\"opening_cat\")[\"winner\"].value_counts().index, autopct = \"%.1f%%\")\r\n",
        "    ax2.set_title(\"Win rates by opening category\")\r\n",
        "\r\n",
        "plt.show()"
      ]
    },
    {
      "cell_type": "code",
      "execution_count": null,
      "metadata": {
        "id": "3LgFZ7fhDZ3E"
      },
      "outputs": [],
      "source": [
        "# grouping by opening\r\n",
        "# find the win rates for each opening/varient\r\n",
        "gby = games_df.groupby(\"opening_eco\")\r\n",
        "\r\n",
        "# graph these\r\n"
      ]
    },
    {
      "cell_type": "code",
      "execution_count": null,
      "metadata": {
        "id": "eoMozzCaDbAq"
      },
      "outputs": [],
      "source": [
        "# find the number of pieces taken by white/black each game"
      ]
    },
    {
      "cell_type": "code",
      "execution_count": null,
      "metadata": {
        "id": "6KKDS9tdDcIL"
      },
      "outputs": [],
      "source": [
        "# grouping by opening, winner\n",
        "# find out how many pieces the winner had taken \n",
        "#   vs the count of pieces the opp. had taken\n",
        "\n",
        "# graph this seperately for white as winner and black as winner"
      ]
    },
    {
      "cell_type": "code",
      "execution_count": null,
      "metadata": {
        "id": "dA1t5n5TDdM2"
      },
      "outputs": [],
      "source": [
        "# graph % of times the lower rated player wins per opening per color\r\n",
        "white_ud = (games_df[\"elo_diff\"] < 0) & (games_df[\"winner\"] == \"white\")\r\n",
        "black_ud = (games_df[\"elo_diff\"] > 0) & (games_df[\"winner\"] == \"black\")\r\n",
        "\r\n",
        "fig, (ax1, ax2) = plt.subplots(1, 2, figsize = (10,10))\r\n",
        "\r\n",
        "ax1.pie(x = white_ud.value_counts(), labels = white_ud.value_counts().index.map({True : \"Wins\", False : \"Losses\"}), autopct = \"%.1f%%\")\r\n",
        "ax1.set_title(\"Percent times white won\\ndespite lower ELO rating\")\r\n",
        "\r\n",
        "ax2.pie(x = black_ud.value_counts(), labels = black_ud.value_counts().index.map({True : \"Wins\", False : \"Losses\"}), autopct = \"%.1f%%\")\r\n",
        "ax2.set_title(\"Percent times black won\\ndespite lower ELO rating\")\r\n",
        "\r\n",
        "plt.show()"
      ]
    },
    {
      "cell_type": "code",
      "execution_count": null,
      "metadata": {},
      "outputs": [],
      "source": [
        "white_eco_ud_wins = games_df[white_ud].groupby(\"opening_eco\")[\"winner\"].count()\r\n",
        "white_eco_ud_losses = games_df[~white_ud].groupby(\"opening_eco\")[\"winner\"].count()\r\n"
      ]
    },
    {
      "cell_type": "code",
      "execution_count": null,
      "metadata": {
        "id": "H8VuFYB0DeQm"
      },
      "outputs": [],
      "source": [
        "# repeat above work, but with the data binned by ranges of player ratings\r\n",
        "games_df[white_ud].groupby(\"white_range\")[\"winner\"].count()"
      ]
    },
    {
      "cell_type": "code",
      "execution_count": null,
      "metadata": {},
      "outputs": [],
      "source": [
        "games_df[black_ud].groupby(\"black_range\")[\"winner\"].count()"
      ]
    },
    {
      "cell_type": "code",
      "execution_count": null,
      "metadata": {},
      "outputs": [],
      "source": []
    }
  ],
  "metadata": {
    "colab": {
      "name": "analysis.ipynb",
      "provenance": []
    },
    "interpreter": {
      "hash": "79264824c40396a64d10485446bbc394f17a77ecfe3bed33e1bfdf8fe75a4647"
    },
    "kernelspec": {
      "display_name": "Python 3.6.10 64-bit ('PythonData': conda)",
      "name": "python3"
    },
    "language_info": {
      "codemirror_mode": {
        "name": "ipython",
        "version": 3
      },
      "file_extension": ".py",
      "mimetype": "text/x-python",
      "name": "python",
      "nbconvert_exporter": "python",
      "pygments_lexer": "ipython3",
      "version": "3.6.10"
    },
    "orig_nbformat": 4
  },
  "nbformat": 4,
  "nbformat_minor": 0
}
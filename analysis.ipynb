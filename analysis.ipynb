{
  "cells": [
    {
      "cell_type": "code",
      "execution_count": 1,
      "metadata": {
        "id": "hrFOQL5C3xTK"
      },
      "outputs": [],
      "source": [
        "# imports\n",
        "import pandas as pd\n",
        "import os\n",
        "import matplotlib.pyplot as plt\n",
        "import re\n",
        "\n",
        "# set filepath to data source\n",
        "filepath = \"games.csv\"\n"
      ]
    },
    {
      "cell_type": "code",
      "execution_count": 2,
      "metadata": {
        "colab": {
          "base_uri": "https://localhost:8080/",
          "height": 253
        },
        "id": "nn_JjVjo3xTN",
        "outputId": "9b205ce5-b116-45a1-d850-ea72bfd3707d"
      },
      "outputs": [
        {
          "data": {
            "text/html": [
              "<div>\n",
              "<style scoped>\n",
              "    .dataframe tbody tr th:only-of-type {\n",
              "        vertical-align: middle;\n",
              "    }\n",
              "\n",
              "    .dataframe tbody tr th {\n",
              "        vertical-align: top;\n",
              "    }\n",
              "\n",
              "    .dataframe thead th {\n",
              "        text-align: right;\n",
              "    }\n",
              "</style>\n",
              "<table border=\"1\" class=\"dataframe\">\n",
              "  <thead>\n",
              "    <tr style=\"text-align: right;\">\n",
              "      <th></th>\n",
              "      <th>id</th>\n",
              "      <th>rated</th>\n",
              "      <th>created_at</th>\n",
              "      <th>last_move_at</th>\n",
              "      <th>turns</th>\n",
              "      <th>victory_status</th>\n",
              "      <th>winner</th>\n",
              "      <th>increment_code</th>\n",
              "      <th>white_id</th>\n",
              "      <th>white_rating</th>\n",
              "      <th>black_id</th>\n",
              "      <th>black_rating</th>\n",
              "      <th>moves</th>\n",
              "      <th>opening_eco</th>\n",
              "      <th>opening_name</th>\n",
              "      <th>opening_ply</th>\n",
              "    </tr>\n",
              "  </thead>\n",
              "  <tbody>\n",
              "    <tr>\n",
              "      <th>0</th>\n",
              "      <td>TZJHLljE</td>\n",
              "      <td>False</td>\n",
              "      <td>1.504210e+12</td>\n",
              "      <td>1.504210e+12</td>\n",
              "      <td>13</td>\n",
              "      <td>outoftime</td>\n",
              "      <td>white</td>\n",
              "      <td>15+2</td>\n",
              "      <td>bourgris</td>\n",
              "      <td>1500</td>\n",
              "      <td>a-00</td>\n",
              "      <td>1191</td>\n",
              "      <td>d4 d5 c4 c6 cxd5 e6 dxe6 fxe6 Nf3 Bb4+ Nc3 Ba5...</td>\n",
              "      <td>D10</td>\n",
              "      <td>Slav Defense: Exchange Variation</td>\n",
              "      <td>5</td>\n",
              "    </tr>\n",
              "  </tbody>\n",
              "</table>\n",
              "</div>"
            ],
            "text/plain": [
              "         id  rated    created_at  last_move_at  turns victory_status winner  \\\n",
              "0  TZJHLljE  False  1.504210e+12  1.504210e+12     13      outoftime  white   \n",
              "\n",
              "  increment_code  white_id  white_rating black_id  black_rating  \\\n",
              "0           15+2  bourgris          1500     a-00          1191   \n",
              "\n",
              "                                               moves opening_eco  \\\n",
              "0  d4 d5 c4 c6 cxd5 e6 dxe6 fxe6 Nf3 Bb4+ Nc3 Ba5...         D10   \n",
              "\n",
              "                       opening_name  opening_ply  \n",
              "0  Slav Defense: Exchange Variation            5  "
            ]
          },
          "execution_count": 2,
          "metadata": {},
          "output_type": "execute_result"
        }
      ],
      "source": [
        "# load data into dataframe\n",
        "games_df = pd.read_csv(filepath)\n",
        "games_df.head(1)"
      ]
    },
    {
      "cell_type": "code",
      "execution_count": 3,
      "metadata": {
        "id": "y8XzLCD23xTN"
      },
      "outputs": [],
      "source": [
        "# split opening_name into opening and variation\r\n",
        "opening_variation_s = games_df[\"opening_name\"].str.split(\": \", n=1, expand = True)\r\n",
        "games_df[\"opening\"] = opening_variation_s[0]\r\n",
        "games_df[\"variation\"] = opening_variation_s[1]\r\n",
        "\r\n",
        "# cleanup opening so similar names correlate properly \r\n",
        "# (eg. \"Queens Pawn\" and \"Queens Pawn Game\")\r\n",
        "\r\n",
        "# map for splitting the opening_varient into (opening, varient)\r\n",
        "opening_map = {}\r\n",
        "# collection for names already tested\r\n",
        "openings = []\r\n",
        "for opening in games_df[\"opening\"].value_counts().index:\r\n",
        "  # skip already tested opening names\r\n",
        "  if ~(opening in openings):\r\n",
        "    # loop on the short list of tested names\r\n",
        "    for op in openings:\r\n",
        "      # ignore if they are the same (shouldn't happen)\r\n",
        "      if opening == op:\r\n",
        "        continue\r\n",
        "      # if one is a substring of the other\r\n",
        "      # then make a new mapping {longname : (shortname, varient)}\r\n",
        "      elif (op.startswith(opening)):\r\n",
        "        opening_map[op] = (opening, op[len(opening):])\r\n",
        "        opening_map[opening] = (opening, \"\")\r\n",
        "      elif (opening.startswith(op)):\r\n",
        "        opening_map[opening] = (op, opening[len(op):])\r\n",
        "        opening_map[op] = (op, \"\")\r\n",
        "    openings.append(opening)\r\n",
        "\r\n",
        "  # TODO\r\n",
        "  # map update opening/variation on rows with that pattern\r\n",
        "  \r\n"
      ]
    },
    {
      "cell_type": "code",
      "execution_count": 4,
      "metadata": {
        "colab": {
          "base_uri": "https://localhost:8080/"
        },
        "id": "ylYhB3m43xTN",
        "outputId": "07d29c1e-2c0a-411f-a209-d4e148404a1b"
      },
      "outputs": [],
      "source": [
        "\r\n",
        "games_df[\"white_range\"] = pd.cut(games_df[\"white_rating\"], range(0, 3000, 200))\r\n",
        "games_df[\"black_range\"] = pd.cut(games_df[\"black_rating\"], range(0, 3000, 200))"
      ]
    },
    {
      "cell_type": "code",
      "execution_count": 5,
      "metadata": {},
      "outputs": [],
      "source": [
        "# High ELO_diff implies white should win;  low (negative) values imply black should win\r\n",
        "games_df[\"elo_diff\"] = games_df[\"white_rating\"]-games_df[\"black_rating\"]"
      ]
    },
    {
      "cell_type": "code",
      "execution_count": null,
      "metadata": {},
      "outputs": [],
      "source": []
    },
    {
      "cell_type": "code",
      "execution_count": 6,
      "metadata": {
        "colab": {
          "base_uri": "https://localhost:8080/",
          "height": 1000
        },
        "id": "e8Rj3UwHDWWE",
        "outputId": "49550c41-65f2-4468-a4fe-2e2f8c8a9854"
      },
      "outputs": [],
      "source": [
        "# filter out bad data (resignations, unranked games)\r\n",
        "# bad cases:  player rating missmatch, <10 turns resignation, no pieces lost resignation\r\n",
        "# player missmatch\r\n"
      ]
    },
    {
      "cell_type": "code",
      "execution_count": 7,
      "metadata": {
        "id": "O_A2YyA5DYhl"
      },
      "outputs": [
        {
          "data": {
            "image/png": "[encoded data removed]",
            "text/plain": [
              "<Figure size 432x288 with 1 Axes>"
            ]
          },
          "metadata": {},
          "output_type": "display_data"
        }
      ],
      "source": [
        "# get general summary data \r\n",
        "\r\n",
        "## overall wins for white/black\r\n",
        "total_wins = games_df[\"winner\"].value_counts()[\"white\"]\r\n",
        "total_losses = games_df[\"winner\"].value_counts()[\"black\"]\r\n",
        "total_draws = games_df[\"winner\"].value_counts()[\"draw\"]\r\n",
        "## counts of openings\r\n",
        "\r\n",
        "\r\n",
        "## graphs to visualize these\r\n",
        "plt.pie(x = games_df[\"winner\"].value_counts(), labels = games_df[\"winner\"].value_counts().index, autopct = \"%.1f%%\")\r\n",
        "plt.show()"
      ]
    },
    {
      "cell_type": "code",
      "execution_count": 8,
      "metadata": {
        "id": "3LgFZ7fhDZ3E"
      },
      "outputs": [],
      "source": [
        "# grouping by opening\r\n",
        "# find the win rates for each opening/varient\r\n",
        "gby = games_df.groupby(\"opening_eco\")\r\n",
        "\r\n",
        "# graph these\r\n"
      ]
    },
    {
      "cell_type": "code",
      "execution_count": 9,
      "metadata": {
        "id": "eoMozzCaDbAq"
      },
      "outputs": [],
      "source": [
        "# find the number of pieces taken by white/black each game"
      ]
    },
    {
      "cell_type": "code",
      "execution_count": 10,
      "metadata": {
        "id": "6KKDS9tdDcIL"
      },
      "outputs": [],
      "source": [
        "# grouping by opening, winner\n",
        "# find out how many pieces the winner had taken \n",
        "#   vs the count of pieces the opp. had taken\n",
        "\n",
        "# graph this seperately for white as winner and black as winner"
      ]
    },
    {
      "cell_type": "code",
      "execution_count": 11,
      "metadata": {
        "id": "dA1t5n5TDdM2"
      },
      "outputs": [
        {
          "data": {
            "image/png": "[encoded data removed]",
            "text/plain": [
              "<Figure size 720x720 with 2 Axes>"
            ]
          },
          "metadata": {},
          "output_type": "display_data"
        }
      ],
      "source": [
        "# graph % of times the lower rated player wins per opening per color\r\n",
        "white_ud = (games_df[\"elo_diff\"] < 0) & (games_df[\"winner\"] == \"white\")\r\n",
        "black_ud = (games_df[\"elo_diff\"] > 0) & (games_df[\"winner\"] == \"black\")\r\n",
        "\r\n",
        "fig, (ax1, ax2) = plt.subplots(1, 2, figsize = (10,10))\r\n",
        "\r\n",
        "ax1.pie(x = white_ud.value_counts(), labels = white_ud.value_counts().index.map({True : \"Wins\", False : \"Losses\"}), autopct = \"%.1f%%\")\r\n",
        "ax1.set_title(\"Percent times white won\\ndespite lower ELO rating\")\r\n",
        "\r\n",
        "ax2.pie(x = black_ud.value_counts(), labels = black_ud.value_counts().index.map({True : \"Wins\", False : \"Losses\"}), autopct = \"%.1f%%\")\r\n",
        "ax2.set_title(\"Percent times black won\\ndespite lower ELO rating\")\r\n",
        "\r\n",
        "plt.show()"
      ]
    },
    {
      "cell_type": "code",
      "execution_count": 12,
      "metadata": {},
      "outputs": [
        {
          "data": {
            "text/plain": [
              "A00    149\n",
              "C00    136\n",
              "B01    117\n",
              "C41    116\n",
              "C20    116\n",
              "      ... \n",
              "C49      1\n",
              "B74      1\n",
              "E80      1\n",
              "C14      1\n",
              "E71      1\n",
              "Name: opening_eco, Length: 259, dtype: int64"
            ]
          },
          "execution_count": 12,
          "metadata": {},
          "output_type": "execute_result"
        }
      ],
      "source": [
        "games_df[white_ud][\"opening_eco\"].value_counts()"
      ]
    },
    {
      "cell_type": "code",
      "execution_count": 13,
      "metadata": {
        "id": "H8VuFYB0DeQm"
      },
      "outputs": [],
      "source": [
        "# repeat above work, but with the data binned by ranges of player ratings\r\n"
      ]
    },
    {
      "cell_type": "code",
      "execution_count": null,
      "metadata": {},
      "outputs": [],
      "source": []
    }
  ],
  "metadata": {
    "colab": {
      "name": "analysis.ipynb",
      "provenance": []
    },
    "interpreter": {
      "hash": "79264824c40396a64d10485446bbc394f17a77ecfe3bed33e1bfdf8fe75a4647"
    },
    "kernelspec": {
      "display_name": "Python 3.6.10 64-bit ('PythonData': conda)",
      "name": "python3"
    },
    "language_info": {
      "codemirror_mode": {
        "name": "ipython",
        "version": 3
      },
      "file_extension": ".py",
      "mimetype": "text/x-python",
      "name": "python",
      "nbconvert_exporter": "python",
      "pygments_lexer": "ipython3",
      "version": "3.6.10"
    },
    "orig_nbformat": 4
  },
  "nbformat": 4,
  "nbformat_minor": 0
}
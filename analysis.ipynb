{
 "metadata": {
  "language_info": {
   "codemirror_mode": {
    "name": "ipython",
    "version": 3
   },
   "file_extension": ".py",
   "mimetype": "text/x-python",
   "name": "python",
   "nbconvert_exporter": "python",
   "pygments_lexer": "ipython3",
   "version": "3.6.10"
  },
  "orig_nbformat": 4,
  "kernelspec": {
   "name": "python3",
   "display_name": "Python 3.6.10 64-bit ('PythonData': conda)"
  },
  "interpreter": {
   "hash": "79264824c40396a64d10485446bbc394f17a77ecfe3bed33e1bfdf8fe75a4647"
  }
 },
 "nbformat": 4,
 "nbformat_minor": 2,
 "cells": [
  {
   "cell_type": "code",
   "execution_count": 1,
   "metadata": {},
   "outputs": [],
   "source": [
    "import pandas as pd\n",
    "import os\n",
    "\n",
    "\n",
    "filepath = os.path.join(\"lichess\",\"games.csv\")\n"
   ]
  },
  {
   "cell_type": "code",
   "execution_count": 2,
   "metadata": {},
   "outputs": [],
   "source": [
    "games_df = pd.read_csv(filepath)\n",
    "games_df.head(1)"
   ]
  },
  {
   "cell_type": "code",
   "execution_count": 4,
   "metadata": {},
   "outputs": [],
   "source": [
    "opening_variation_s = games_df[\"opening_name\"].str.split(\": \", n=1, expand = True)"
   ]
  },
  {
   "cell_type": "code",
   "execution_count": 5,
   "metadata": {},
   "outputs": [
    {
     "output_type": "execute_result",
     "data": {
      "text/plain": [
       "Sicilian Defense                                               2573\n",
       "French Defense                                                 1306\n",
       "Queen's Pawn Game                                              1059\n",
       "Italian Game                                                    981\n",
       "King's Pawn Game                                                917\n",
       "                                                               ... \n",
       "King's Gambit Accepted |  Ghulam-Kassim Gambit                    1\n",
       "Alekhine Defense #3                                               1\n",
       "Blackmar-Diemer Gambit Declined |  Weinsbach Declination          1\n",
       "Blackmar-Diemer Gambit Declined |  Brombacher Countergambit       1\n",
       "Australian Defense                                                1\n",
       "Name: opening, Length: 227, dtype: int64"
      ]
     },
     "metadata": {},
     "execution_count": 5
    }
   ],
   "source": [
    "games_df[\"opening\"] = opening_variation_s[0]\n",
    "games_df[\"variation\"] = opening_variation_s[1]\n",
    "games_df[\"opening\"].value_counts()"
   ]
  },
  {
   "cell_type": "code",
   "execution_count": null,
   "metadata": {},
   "outputs": [],
   "source": []
  }
 ]
}
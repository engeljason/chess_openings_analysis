{
  "nbformat": 4,
  "nbformat_minor": 0,
  "metadata": {
    "language_info": {
      "codemirror_mode": {
        "name": "ipython",
        "version": 3
      },
      "file_extension": ".py",
      "mimetype": "text/x-python",
      "name": "python",
      "nbconvert_exporter": "python",
      "pygments_lexer": "ipython3",
      "version": "3.6.10"
    },
    "orig_nbformat": 4,
    "kernelspec": {
      "name": "python3",
      "display_name": "Python 3.6.10 64-bit ('PythonData': conda)"
    },
    "interpreter": {
      "hash": "79264824c40396a64d10485446bbc394f17a77ecfe3bed33e1bfdf8fe75a4647"
    },
    "colab": {
      "name": "analysis.ipynb",
      "provenance": []
    }
  },
  "cells": [
    {
      "cell_type": "code",
      "metadata": {
        "id": "hrFOQL5C3xTK"
      },
      "source": [
        "# imports\n",
        "import pandas as pd\n",
        "import os\n",
        "import matplotlib.pyplot as plt\n",
        "import re\n",
        "\n",
        "# set filepath to data source\n",
        "filepath = \"games.csv\"\n"
      ],
      "execution_count": 1,
      "outputs": []
    },
    {
      "cell_type": "code",
      "metadata": {
        "colab": {
          "base_uri": "https://localhost:8080/",
          "height": 253
        },
        "id": "nn_JjVjo3xTN",
        "outputId": "9b205ce5-b116-45a1-d850-ea72bfd3707d"
      },
      "source": [
        "# load data into dataframe\n",
        "games_df = pd.read_csv(filepath)\n",
        "games_df.head(1)"
      ],
      "execution_count": 2,
      "outputs": [
        {
          "output_type": "execute_result",
          "data": {
            "text/html": [
              "<div>\n",
              "<style scoped>\n",
              "    .dataframe tbody tr th:only-of-type {\n",
              "        vertical-align: middle;\n",
              "    }\n",
              "\n",
              "    .dataframe tbody tr th {\n",
              "        vertical-align: top;\n",
              "    }\n",
              "\n",
              "    .dataframe thead th {\n",
              "        text-align: right;\n",
              "    }\n",
              "</style>\n",
              "<table border=\"1\" class=\"dataframe\">\n",
              "  <thead>\n",
              "    <tr style=\"text-align: right;\">\n",
              "      <th></th>\n",
              "      <th>id</th>\n",
              "      <th>rated</th>\n",
              "      <th>created_at</th>\n",
              "      <th>last_move_at</th>\n",
              "      <th>turns</th>\n",
              "      <th>victory_status</th>\n",
              "      <th>winner</th>\n",
              "      <th>increment_code</th>\n",
              "      <th>white_id</th>\n",
              "      <th>white_rating</th>\n",
              "      <th>black_id</th>\n",
              "      <th>black_rating</th>\n",
              "      <th>moves</th>\n",
              "      <th>opening_eco</th>\n",
              "      <th>opening_name</th>\n",
              "      <th>opening_ply</th>\n",
              "    </tr>\n",
              "  </thead>\n",
              "  <tbody>\n",
              "    <tr>\n",
              "      <th>0</th>\n",
              "      <td>TZJHLljE</td>\n",
              "      <td>False</td>\n",
              "      <td>1.504210e+12</td>\n",
              "      <td>1.504210e+12</td>\n",
              "      <td>13</td>\n",
              "      <td>outoftime</td>\n",
              "      <td>white</td>\n",
              "      <td>15+2</td>\n",
              "      <td>bourgris</td>\n",
              "      <td>1500</td>\n",
              "      <td>a-00</td>\n",
              "      <td>1191</td>\n",
              "      <td>d4 d5 c4 c6 cxd5 e6 dxe6 fxe6 Nf3 Bb4+ Nc3 Ba5...</td>\n",
              "      <td>D10</td>\n",
              "      <td>Slav Defense: Exchange Variation</td>\n",
              "      <td>5</td>\n",
              "    </tr>\n",
              "  </tbody>\n",
              "</table>\n",
              "</div>"
            ],
            "text/plain": [
              "         id  rated  ...                      opening_name  opening_ply\n",
              "0  TZJHLljE  False  ...  Slav Defense: Exchange Variation            5\n",
              "\n",
              "[1 rows x 16 columns]"
            ]
          },
          "metadata": {
            "tags": []
          },
          "execution_count": 2
        }
      ]
    },
    {
      "cell_type": "code",
      "metadata": {
        "id": "y8XzLCD23xTN"
      },
      "source": [
        "# split opening_name into opening and variation\n",
        "opening_variation_s = games_df[\"opening_name\"].str.split(\": \", n=1, expand = True)\n",
        "games_df[\"opening\"] = opening_variation_s[0]\n",
        "games_df[\"variation\"] = opening_variation_s[1]\n",
        "\n",
        "# cleanup opening so similar names correlate properly \n",
        "# (eg. \"Queens Pawn\" and \"Queens Pawn Game\")\n",
        "\n",
        "# map for splitting the opening_varient into (opening, varient)\n",
        "opening_map = {}\n",
        "# collection for names already tested\n",
        "openings = []\n",
        "for opening in games_df[\"opening\"].value_counts().index:\n",
        "  # \n",
        "  if ~(opening in openings):\n",
        "    for op in openings:\n",
        "      if opening == op:\n",
        "        continue\n",
        "      else if (op.startswith(opening)):\n",
        "        openings.remove(op)\n",
        "        openings.append(opening)\n",
        "        opening_map[op] = (opening, op[len(opening):])\n",
        "# TODO: FINISH\n",
        "    # split(opening) into opening and variation\n",
        "    # map update opening/variation on rows with that pattern\n",
        "  \n"
      ],
      "execution_count": 3,
      "outputs": []
    },
    {
      "cell_type": "code",
      "metadata": {
        "colab": {
          "base_uri": "https://localhost:8080/"
        },
        "id": "ylYhB3m43xTN",
        "outputId": "07d29c1e-2c0a-411f-a209-d4e148404a1b"
      },
      "source": [
        "\n",
        "games_df[\"opening\"].value_counts().index"
      ],
      "execution_count": 4,
      "outputs": [
        {
          "output_type": "execute_result",
          "data": {
            "text/plain": [
              "Index(['Sicilian Defense', 'French Defense', 'Queen's Pawn Game',\n",
              "       'Italian Game', 'King's Pawn Game', 'Ruy Lopez', 'English Opening',\n",
              "       'Scandinavian Defense', 'Caro-Kann Defense', 'Scotch Game',\n",
              "       ...\n",
              "       'King's Gambit |  Falkbeer Countergambit |  Miles Gambit',\n",
              "       'King's Indian |  Orthodox |  7...Nbd7 8.Re1',\n",
              "       'Danish Gambit Accepted |  Schlechter Defense', 'Doery Defense',\n",
              "       'Benko Gambit Declined |  Main Line',\n",
              "       'King's Gambit Accepted |  Rosentreter Gambit',\n",
              "       'Benko Gambit Declined |  Quiet Line', 'Pterodactyl Defense',\n",
              "       'Valencia Opening', 'Benko Gambit Accepted |  Pawn Return Variation'],\n",
              "      dtype='object', length=227)"
            ]
          },
          "metadata": {
            "tags": []
          },
          "execution_count": 4
        }
      ]
    },
    {
      "cell_type": "code",
      "metadata": {
        "id": "e8Rj3UwHDWWE",
        "outputId": "49550c41-65f2-4468-a4fe-2e2f8c8a9854",
        "colab": {
          "base_uri": "https://localhost:8080/",
          "height": 1000
        }
      },
      "source": [
        "# filter out bad data (resignations, unranked games)\n",
        "# bad cases:  player rating missmatch, <10 turns resignation, no pieces lost resignation\n"
      ],
      "execution_count": 11,
      "outputs": [
        {
          "output_type": "execute_result",
          "data": {
            "text/html": [
              "<div>\n",
              "<style scoped>\n",
              "    .dataframe tbody tr th:only-of-type {\n",
              "        vertical-align: middle;\n",
              "    }\n",
              "\n",
              "    .dataframe tbody tr th {\n",
              "        vertical-align: top;\n",
              "    }\n",
              "\n",
              "    .dataframe thead th {\n",
              "        text-align: right;\n",
              "    }\n",
              "</style>\n",
              "<table border=\"1\" class=\"dataframe\">\n",
              "  <thead>\n",
              "    <tr style=\"text-align: right;\">\n",
              "      <th></th>\n",
              "      <th>id</th>\n",
              "      <th>rated</th>\n",
              "      <th>created_at</th>\n",
              "      <th>last_move_at</th>\n",
              "      <th>turns</th>\n",
              "      <th>victory_status</th>\n",
              "      <th>winner</th>\n",
              "      <th>increment_code</th>\n",
              "      <th>white_id</th>\n",
              "      <th>white_rating</th>\n",
              "      <th>black_id</th>\n",
              "      <th>black_rating</th>\n",
              "      <th>moves</th>\n",
              "      <th>opening_eco</th>\n",
              "      <th>opening_name</th>\n",
              "      <th>opening_ply</th>\n",
              "      <th>opening</th>\n",
              "      <th>variation</th>\n",
              "    </tr>\n",
              "  </thead>\n",
              "  <tbody>\n",
              "    <tr>\n",
              "      <th>0</th>\n",
              "      <td>TZJHLljE</td>\n",
              "      <td>False</td>\n",
              "      <td>1.504210e+12</td>\n",
              "      <td>1.504210e+12</td>\n",
              "      <td>13</td>\n",
              "      <td>outoftime</td>\n",
              "      <td>white</td>\n",
              "      <td>15+2</td>\n",
              "      <td>bourgris</td>\n",
              "      <td>1500</td>\n",
              "      <td>a-00</td>\n",
              "      <td>1191</td>\n",
              "      <td>d4 d5 c4 c6 cxd5 e6 dxe6 fxe6 Nf3 Bb4+ Nc3 Ba5...</td>\n",
              "      <td>D10</td>\n",
              "      <td>Slav Defense: Exchange Variation</td>\n",
              "      <td>5</td>\n",
              "      <td>Slav Defense</td>\n",
              "      <td>Exchange Variation</td>\n",
              "    </tr>\n",
              "    <tr>\n",
              "      <th>1</th>\n",
              "      <td>l1NXvwaE</td>\n",
              "      <td>True</td>\n",
              "      <td>1.504130e+12</td>\n",
              "      <td>1.504130e+12</td>\n",
              "      <td>16</td>\n",
              "      <td>resign</td>\n",
              "      <td>black</td>\n",
              "      <td>5+10</td>\n",
              "      <td>a-00</td>\n",
              "      <td>1322</td>\n",
              "      <td>skinnerua</td>\n",
              "      <td>1261</td>\n",
              "      <td>d4 Nc6 e4 e5 f4 f6 dxe5 fxe5 fxe5 Nxe5 Qd4 Nc6...</td>\n",
              "      <td>B00</td>\n",
              "      <td>Nimzowitsch Defense: Kennedy Variation</td>\n",
              "      <td>4</td>\n",
              "      <td>Nimzowitsch Defense</td>\n",
              "      <td>Kennedy Variation</td>\n",
              "    </tr>\n",
              "    <tr>\n",
              "      <th>2</th>\n",
              "      <td>mIICvQHh</td>\n",
              "      <td>True</td>\n",
              "      <td>1.504130e+12</td>\n",
              "      <td>1.504130e+12</td>\n",
              "      <td>61</td>\n",
              "      <td>mate</td>\n",
              "      <td>white</td>\n",
              "      <td>5+10</td>\n",
              "      <td>ischia</td>\n",
              "      <td>1496</td>\n",
              "      <td>a-00</td>\n",
              "      <td>1500</td>\n",
              "      <td>e4 e5 d3 d6 Be3 c6 Be2 b5 Nd2 a5 a4 c5 axb5 Nc...</td>\n",
              "      <td>C20</td>\n",
              "      <td>King's Pawn Game: Leonardis Variation</td>\n",
              "      <td>3</td>\n",
              "      <td>King's Pawn Game</td>\n",
              "      <td>Leonardis Variation</td>\n",
              "    </tr>\n",
              "    <tr>\n",
              "      <th>3</th>\n",
              "      <td>kWKvrqYL</td>\n",
              "      <td>True</td>\n",
              "      <td>1.504110e+12</td>\n",
              "      <td>1.504110e+12</td>\n",
              "      <td>61</td>\n",
              "      <td>mate</td>\n",
              "      <td>white</td>\n",
              "      <td>20+0</td>\n",
              "      <td>daniamurashov</td>\n",
              "      <td>1439</td>\n",
              "      <td>adivanov2009</td>\n",
              "      <td>1454</td>\n",
              "      <td>d4 d5 Nf3 Bf5 Nc3 Nf6 Bf4 Ng4 e3 Nc6 Be2 Qd7 O...</td>\n",
              "      <td>D02</td>\n",
              "      <td>Queen's Pawn Game: Zukertort Variation</td>\n",
              "      <td>3</td>\n",
              "      <td>Queen's Pawn Game</td>\n",
              "      <td>Zukertort Variation</td>\n",
              "    </tr>\n",
              "    <tr>\n",
              "      <th>4</th>\n",
              "      <td>9tXo1AUZ</td>\n",
              "      <td>True</td>\n",
              "      <td>1.504030e+12</td>\n",
              "      <td>1.504030e+12</td>\n",
              "      <td>95</td>\n",
              "      <td>mate</td>\n",
              "      <td>white</td>\n",
              "      <td>30+3</td>\n",
              "      <td>nik221107</td>\n",
              "      <td>1523</td>\n",
              "      <td>adivanov2009</td>\n",
              "      <td>1469</td>\n",
              "      <td>e4 e5 Nf3 d6 d4 Nc6 d5 Nb4 a3 Na6 Nc3 Be7 b4 N...</td>\n",
              "      <td>C41</td>\n",
              "      <td>Philidor Defense</td>\n",
              "      <td>5</td>\n",
              "      <td>Philidor Defense</td>\n",
              "      <td>None</td>\n",
              "    </tr>\n",
              "    <tr>\n",
              "      <th>...</th>\n",
              "      <td>...</td>\n",
              "      <td>...</td>\n",
              "      <td>...</td>\n",
              "      <td>...</td>\n",
              "      <td>...</td>\n",
              "      <td>...</td>\n",
              "      <td>...</td>\n",
              "      <td>...</td>\n",
              "      <td>...</td>\n",
              "      <td>...</td>\n",
              "      <td>...</td>\n",
              "      <td>...</td>\n",
              "      <td>...</td>\n",
              "      <td>...</td>\n",
              "      <td>...</td>\n",
              "      <td>...</td>\n",
              "      <td>...</td>\n",
              "      <td>...</td>\n",
              "    </tr>\n",
              "    <tr>\n",
              "      <th>20053</th>\n",
              "      <td>EfqH7VVH</td>\n",
              "      <td>True</td>\n",
              "      <td>1.499791e+12</td>\n",
              "      <td>1.499791e+12</td>\n",
              "      <td>24</td>\n",
              "      <td>resign</td>\n",
              "      <td>white</td>\n",
              "      <td>10+10</td>\n",
              "      <td>belcolt</td>\n",
              "      <td>1691</td>\n",
              "      <td>jamboger</td>\n",
              "      <td>1220</td>\n",
              "      <td>d4 f5 e3 e6 Nf3 Nf6 Nc3 b6 Be2 Bb7 O-O Be7 Ne5...</td>\n",
              "      <td>A80</td>\n",
              "      <td>Dutch Defense</td>\n",
              "      <td>2</td>\n",
              "      <td>Dutch Defense</td>\n",
              "      <td>None</td>\n",
              "    </tr>\n",
              "    <tr>\n",
              "      <th>20054</th>\n",
              "      <td>WSJDhbPl</td>\n",
              "      <td>True</td>\n",
              "      <td>1.499698e+12</td>\n",
              "      <td>1.499699e+12</td>\n",
              "      <td>82</td>\n",
              "      <td>mate</td>\n",
              "      <td>black</td>\n",
              "      <td>10+0</td>\n",
              "      <td>jamboger</td>\n",
              "      <td>1233</td>\n",
              "      <td>farrukhasomiddinov</td>\n",
              "      <td>1196</td>\n",
              "      <td>d4 d6 Bf4 e5 Bg3 Nf6 e3 exd4 exd4 d5 c3 Bd6 Bd...</td>\n",
              "      <td>A41</td>\n",
              "      <td>Queen's Pawn</td>\n",
              "      <td>2</td>\n",
              "      <td>Queen's Pawn</td>\n",
              "      <td>None</td>\n",
              "    </tr>\n",
              "    <tr>\n",
              "      <th>20055</th>\n",
              "      <td>yrAas0Kj</td>\n",
              "      <td>True</td>\n",
              "      <td>1.499698e+12</td>\n",
              "      <td>1.499698e+12</td>\n",
              "      <td>35</td>\n",
              "      <td>mate</td>\n",
              "      <td>white</td>\n",
              "      <td>10+0</td>\n",
              "      <td>jamboger</td>\n",
              "      <td>1219</td>\n",
              "      <td>schaaksmurf3</td>\n",
              "      <td>1286</td>\n",
              "      <td>d4 d5 Bf4 Nc6 e3 Nf6 c3 e6 Nf3 Be7 Bd3 O-O Nbd...</td>\n",
              "      <td>D00</td>\n",
              "      <td>Queen's Pawn Game: Mason Attack</td>\n",
              "      <td>3</td>\n",
              "      <td>Queen's Pawn Game</td>\n",
              "      <td>Mason Attack</td>\n",
              "    </tr>\n",
              "    <tr>\n",
              "      <th>20056</th>\n",
              "      <td>b0v4tRyF</td>\n",
              "      <td>True</td>\n",
              "      <td>1.499696e+12</td>\n",
              "      <td>1.499697e+12</td>\n",
              "      <td>109</td>\n",
              "      <td>resign</td>\n",
              "      <td>white</td>\n",
              "      <td>10+0</td>\n",
              "      <td>marcodisogno</td>\n",
              "      <td>1360</td>\n",
              "      <td>jamboger</td>\n",
              "      <td>1227</td>\n",
              "      <td>e4 d6 d4 Nf6 e5 dxe5 dxe5 Qxd1+ Kxd1 Nd5 c4 Nb...</td>\n",
              "      <td>B07</td>\n",
              "      <td>Pirc Defense</td>\n",
              "      <td>4</td>\n",
              "      <td>Pirc Defense</td>\n",
              "      <td>None</td>\n",
              "    </tr>\n",
              "    <tr>\n",
              "      <th>20057</th>\n",
              "      <td>N8G2JHGG</td>\n",
              "      <td>True</td>\n",
              "      <td>1.499643e+12</td>\n",
              "      <td>1.499644e+12</td>\n",
              "      <td>78</td>\n",
              "      <td>mate</td>\n",
              "      <td>black</td>\n",
              "      <td>10+0</td>\n",
              "      <td>jamboger</td>\n",
              "      <td>1235</td>\n",
              "      <td>ffbob</td>\n",
              "      <td>1339</td>\n",
              "      <td>d4 d5 Bf4 Na6 e3 e6 c3 Nf6 Nf3 Bd7 Nbd2 b5 Bd3...</td>\n",
              "      <td>D00</td>\n",
              "      <td>Queen's Pawn Game: Mason Attack</td>\n",
              "      <td>3</td>\n",
              "      <td>Queen's Pawn Game</td>\n",
              "      <td>Mason Attack</td>\n",
              "    </tr>\n",
              "  </tbody>\n",
              "</table>\n",
              "<p>20058 rows × 18 columns</p>\n",
              "</div>"
            ],
            "text/plain": [
              "             id  rated  ...              opening            variation\n",
              "0      TZJHLljE  False  ...         Slav Defense   Exchange Variation\n",
              "1      l1NXvwaE   True  ...  Nimzowitsch Defense    Kennedy Variation\n",
              "2      mIICvQHh   True  ...     King's Pawn Game  Leonardis Variation\n",
              "3      kWKvrqYL   True  ...    Queen's Pawn Game  Zukertort Variation\n",
              "4      9tXo1AUZ   True  ...     Philidor Defense                 None\n",
              "...         ...    ...  ...                  ...                  ...\n",
              "20053  EfqH7VVH   True  ...        Dutch Defense                 None\n",
              "20054  WSJDhbPl   True  ...         Queen's Pawn                 None\n",
              "20055  yrAas0Kj   True  ...    Queen's Pawn Game         Mason Attack\n",
              "20056  b0v4tRyF   True  ...         Pirc Defense                 None\n",
              "20057  N8G2JHGG   True  ...    Queen's Pawn Game         Mason Attack\n",
              "\n",
              "[20058 rows x 18 columns]"
            ]
          },
          "metadata": {
            "tags": []
          },
          "execution_count": 11
        }
      ]
    },
    {
      "cell_type": "code",
      "metadata": {
        "id": "O_A2YyA5DYhl"
      },
      "source": [
        "# get general summary data \n",
        "\n",
        "## overall wins for white/black\n",
        "## counts of openings\n",
        "\n",
        "## graphs to visualize these"
      ],
      "execution_count": 6,
      "outputs": []
    },
    {
      "cell_type": "code",
      "metadata": {
        "id": "3LgFZ7fhDZ3E"
      },
      "source": [
        "# grouping by opening\n",
        "# find the win rates for each opening/varient\n",
        "\n",
        "# graph these"
      ],
      "execution_count": 7,
      "outputs": []
    },
    {
      "cell_type": "code",
      "metadata": {
        "id": "eoMozzCaDbAq"
      },
      "source": [
        "# find the number of pieces taken by white/black each game"
      ],
      "execution_count": 8,
      "outputs": []
    },
    {
      "cell_type": "code",
      "metadata": {
        "id": "6KKDS9tdDcIL"
      },
      "source": [
        "# grouping by opening, winner\n",
        "# find out how many pieces the winner had taken \n",
        "#   vs the count of pieces the opp. had taken\n",
        "\n",
        "# graph this seperately for white as winner and black as winner"
      ],
      "execution_count": 9,
      "outputs": []
    },
    {
      "cell_type": "code",
      "metadata": {
        "id": "dA1t5n5TDdM2"
      },
      "source": [
        "# graph % of times the lower rated player wins per opening per color"
      ],
      "execution_count": 10,
      "outputs": []
    },
    {
      "cell_type": "code",
      "metadata": {
        "id": "H8VuFYB0DeQm"
      },
      "source": [
        "# repeat above work, but with the data binned by ranges of player ratings"
      ],
      "execution_count": null,
      "outputs": []
    }
  ]
}